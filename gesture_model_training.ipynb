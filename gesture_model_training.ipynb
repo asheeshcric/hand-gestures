{
 "cells": [
  {
   "cell_type": "code",
   "execution_count": 1,
   "metadata": {},
   "outputs": [],
   "source": [
    "%matplotlib inline\n",
    "import numpy as np\n",
    "import matplotlib.pyplot as plt"
   ]
  },
  {
   "cell_type": "code",
   "execution_count": 2,
   "metadata": {},
   "outputs": [],
   "source": [
    "import torch\n",
    "import torchvision\n",
    "from torchvision import transforms, datasets\n",
    "from torch.utils.data.sampler import SubsetRandomSampler"
   ]
  },
  {
   "cell_type": "markdown",
   "metadata": {},
   "source": [
    "#### Path where entire data is located"
   ]
  },
  {
   "cell_type": "code",
   "execution_count": 8,
   "metadata": {},
   "outputs": [],
   "source": [
    "data_path = 'new_contours'"
   ]
  },
  {
   "cell_type": "markdown",
   "metadata": {},
   "source": [
    "#### A method to split train and test datasets and generate loaders"
   ]
  },
  {
   "cell_type": "code",
   "execution_count": 29,
   "metadata": {},
   "outputs": [],
   "source": [
    "def train_test_split(data_dir, validation_size=0.2):\n",
    "    transform = transforms.Compose(\n",
    "        [transforms.Resize(128),\n",
    "        transforms.ToTensor(),\n",
    "        transforms.Normalize((0.5, 0.5, 0.5), (0.5, 0.5, 0.5))]\n",
    "    )\n",
    "    \n",
    "    data = datasets.ImageFolder(root=data_dir, transform=transform)\n",
    "    num_train = len(data)\n",
    "    indices = list(range(num_train))\n",
    "    test_size = int(np.floor(validation_size * num_train))\n",
    "    np.random.shuffle(indices)\n",
    "    \n",
    "    train_indices, test_indices = indices[test_size:], indices[:test_size]\n",
    "    train_sampler = SubsetRandomSampler(train_indices)\n",
    "    test_sampler = SubsetRandomSampler(test_indices)\n",
    "    \n",
    "    train_loader = torch.utils.data.DataLoader(data, sampler=train_sampler, batch_size=32)\n",
    "    test_loader = torch.utils.data.DataLoader(data, sampler=test_sampler, batch_size=32)\n",
    "    return train_loader, test_loader"
   ]
  },
  {
   "cell_type": "code",
   "execution_count": 30,
   "metadata": {},
   "outputs": [],
   "source": [
    "train_loader, test_loader = train_test_split(data_path, validation_size=0.2)"
   ]
  },
  {
   "cell_type": "markdown",
   "metadata": {},
   "source": [
    "#### Classes for the dataset"
   ]
  },
  {
   "cell_type": "code",
   "execution_count": 31,
   "metadata": {},
   "outputs": [
    {
     "data": {
      "text/plain": [
       "['fist', 'left', 'ok', 'right', 'straight']"
      ]
     },
     "execution_count": 31,
     "metadata": {},
     "output_type": "execute_result"
    }
   ],
   "source": [
    "classes = train_loader.dataset.classes\n",
    "classes"
   ]
  },
  {
   "cell_type": "code",
   "execution_count": null,
   "metadata": {},
   "outputs": [],
   "source": []
  },
  {
   "cell_type": "markdown",
   "metadata": {},
   "source": [
    "### Display sample images from the dataset"
   ]
  },
  {
   "cell_type": "code",
   "execution_count": 32,
   "metadata": {},
   "outputs": [],
   "source": [
    "def imshow(img):\n",
    "    img = img / 2 + 0.5 # unnormalize\n",
    "    npimg = img.numpy()\n",
    "    plt.imshow(np.transpose(npimg, (1, 2, 0)))\n",
    "    plt.show()"
   ]
  },
  {
   "cell_type": "code",
   "execution_count": 33,
   "metadata": {},
   "outputs": [],
   "source": [
    "# Get some random training images\n",
    "dataiter = iter(train_loader)\n",
    "images, labels = dataiter.next()"
   ]
  },
  {
   "cell_type": "code",
   "execution_count": 34,
   "metadata": {},
   "outputs": [
    {
     "data": {
      "text/plain": [
       "tensor([0, 4, 1, 0, 3, 0, 3, 0, 4, 2, 1, 2, 0, 2, 4, 2, 3, 4, 2, 1, 1, 4, 1, 4,\n",
       "        4, 3, 1, 1, 4, 3, 0, 0])"
      ]
     },
     "execution_count": 34,
     "metadata": {},
     "output_type": "execute_result"
    }
   ],
   "source": [
    "labels"
   ]
  },
  {
   "cell_type": "code",
   "execution_count": 35,
   "metadata": {},
   "outputs": [
    {
     "data": {
      "image/png": "[encoded data removed]",
      "text/plain": [
       "<Figure size 432x288 with 1 Axes>"
      ]
     },
     "metadata": {
      "needs_background": "light"
     },
     "output_type": "display_data"
    },
    {
     "name": "stdout",
     "output_type": "stream",
     "text": [
      "fist, straight, left, fist, right, fist, right, fist, straight, ok, left, ok, fist, ok, straight, ok, right, straight, ok, left, left, straight, left, straight, straight, right, left, left, straight, right, fist, fist\n"
     ]
    }
   ],
   "source": [
    "# Displays one random batch of images\n",
    "imshow(torchvision.utils.make_grid(images))\n",
    "print(', '.join([classes[labels[j]] for j in range(32)]))"
   ]
  },
  {
   "cell_type": "code",
   "execution_count": 36,
   "metadata": {},
   "outputs": [
    {
     "data": {
      "text/plain": [
       "torch.Size([3, 128, 138])"
      ]
     },
     "execution_count": 36,
     "metadata": {},
     "output_type": "execute_result"
    }
   ],
   "source": [
    "images[0].shape"
   ]
  },
  {
   "cell_type": "markdown",
   "metadata": {},
   "source": [
    "### Define a Convolutional Network"
   ]
  },
  {
   "cell_type": "code",
   "execution_count": 37,
   "metadata": {},
   "outputs": [],
   "source": [
    "import torch.nn as nn\n",
    "import torch.nn.functional as F"
   ]
  },
  {
   "cell_type": "code",
   "execution_count": 52,
   "metadata": {},
   "outputs": [],
   "source": [
    "class Net(nn.Module):\n",
    "    def __init__(self):\n",
    "        super(Net, self).__init__()\n",
    "        self.conv1 = nn.Conv2d(3, 6, 5)\n",
    "        self.pool = nn.MaxPool2d(2, 2)\n",
    "        self.conv2 = nn.Conv2d(6, 16, 5)\n",
    "        self.fc1 = nn.Linear(16*29*31, 120)\n",
    "        self.fc2 = nn.Linear(120, 84)\n",
    "        self.fc3 = nn.Linear(84, 10)\n",
    "        \n",
    "        \n",
    "    def forward(self, x):\n",
    "        x = self.pool(F.relu(self.conv1(x)))\n",
    "        x = self.pool(F.relu(self.conv2(x)))\n",
    "        x = x.view(-1, 16*29*31)\n",
    "        x = F.relu(self.fc1(x))\n",
    "        x = F.relu(self.fc2(x))\n",
    "        x = self.fc3(x)\n",
    "        return x"
   ]
  },
  {
   "cell_type": "code",
   "execution_count": 53,
   "metadata": {},
   "outputs": [],
   "source": [
    "net = Net()"
   ]
  },
  {
   "cell_type": "code",
   "execution_count": null,
   "metadata": {},
   "outputs": [],
   "source": []
  },
  {
   "cell_type": "markdown",
   "metadata": {},
   "source": [
    "### Define a loss function and optimizer"
   ]
  },
  {
   "cell_type": "code",
   "execution_count": 54,
   "metadata": {},
   "outputs": [],
   "source": [
    "import torch.optim as optim"
   ]
  },
  {
   "cell_type": "code",
   "execution_count": 55,
   "metadata": {},
   "outputs": [],
   "source": [
    "criterion = nn.CrossEntropyLoss()\n",
    "optimizer = optim.SGD(net.parameters(), lr=0.001, momentum=0.9)"
   ]
  },
  {
   "cell_type": "code",
   "execution_count": null,
   "metadata": {},
   "outputs": [],
   "source": []
  },
  {
   "cell_type": "markdown",
   "metadata": {},
   "source": [
    "### Train the network"
   ]
  },
  {
   "cell_type": "code",
   "execution_count": 56,
   "metadata": {},
   "outputs": [
    {
     "name": "stdout",
     "output_type": "stream",
     "text": [
      "[Epoch: 1, Batch: 10] Loss: 2.290254807472229\n",
      "[Epoch: 1, Batch: 20] Loss: 2.2232009410858153\n",
      "[Epoch: 1, Batch: 30] Loss: 2.0926756501197814\n",
      "[Epoch: 1, Batch: 40] Loss: 1.835752785205841\n",
      "[Epoch: 1, Batch: 50] Loss: 1.520159697532654\n",
      "[Epoch: 1, Batch: 60] Loss: 1.3935134053230285\n",
      "[Epoch: 1, Batch: 70] Loss: 1.327189302444458\n",
      "[Epoch: 1, Batch: 80] Loss: 1.2597884774208068\n",
      "[Epoch: 1, Batch: 90] Loss: 1.090183287858963\n",
      "[Epoch: 1, Batch: 100] Loss: 1.0187632739543915\n",
      "[Epoch: 1, Batch: 110] Loss: 0.9280206322669983\n",
      "[Epoch: 1, Batch: 120] Loss: 0.9485352218151093\n",
      "[Epoch: 1, Batch: 130] Loss: 1.010601419210434\n",
      "[Epoch: 1, Batch: 140] Loss: 0.878444391489029\n",
      "[Epoch: 1, Batch: 150] Loss: 0.7985856354236602\n",
      "[Epoch: 1, Batch: 160] Loss: 0.8841976642608642\n",
      "[Epoch: 1, Batch: 170] Loss: 0.7617393136024475\n",
      "[Epoch: 1, Batch: 180] Loss: 0.9571516394615174\n",
      "[Epoch: 1, Batch: 190] Loss: 0.9211399257183075\n",
      "[Epoch: 1, Batch: 200] Loss: 0.7587655156850814\n",
      "[Epoch: 1, Batch: 210] Loss: 0.8825276732444763\n",
      "[Epoch: 1, Batch: 220] Loss: 0.7399322867393494\n",
      "[Epoch: 2, Batch: 10] Loss: 0.724350494146347\n",
      "[Epoch: 2, Batch: 20] Loss: 0.6771524608135223\n",
      "[Epoch: 2, Batch: 30] Loss: 0.6673239678144455\n",
      "[Epoch: 2, Batch: 40] Loss: 0.6752459347248078\n",
      "[Epoch: 2, Batch: 50] Loss: 0.6812168851494789\n",
      "[Epoch: 2, Batch: 60] Loss: 0.7199326157569885\n",
      "[Epoch: 2, Batch: 70] Loss: 0.6253302186727524\n",
      "[Epoch: 2, Batch: 80] Loss: 0.6799317896366119\n",
      "[Epoch: 2, Batch: 90] Loss: 0.6460670977830887\n",
      "[Epoch: 2, Batch: 100] Loss: 0.6737848430871963\n",
      "[Epoch: 2, Batch: 110] Loss: 0.5602873474359512\n",
      "[Epoch: 2, Batch: 120] Loss: 0.6361104547977448\n",
      "[Epoch: 2, Batch: 130] Loss: 0.5974678516387939\n",
      "[Epoch: 2, Batch: 140] Loss: 0.5509787350893021\n",
      "[Epoch: 2, Batch: 150] Loss: 0.5464117407798768\n",
      "[Epoch: 2, Batch: 160] Loss: 0.5568860352039338\n",
      "[Epoch: 2, Batch: 170] Loss: 0.5617473423480988\n",
      "[Epoch: 2, Batch: 180] Loss: 0.4778434231877327\n",
      "[Epoch: 2, Batch: 190] Loss: 0.6225715637207031\n",
      "[Epoch: 2, Batch: 200] Loss: 0.42993982434272765\n",
      "[Epoch: 2, Batch: 210] Loss: 0.4688787549734116\n",
      "[Epoch: 2, Batch: 220] Loss: 0.5132436484098435\n",
      "[Epoch: 3, Batch: 10] Loss: 0.4997041940689087\n",
      "[Epoch: 3, Batch: 20] Loss: 0.5079958438873291\n",
      "[Epoch: 3, Batch: 30] Loss: 0.4316778123378754\n",
      "[Epoch: 3, Batch: 40] Loss: 0.3605020672082901\n",
      "[Epoch: 3, Batch: 50] Loss: 0.3472208470106125\n",
      "[Epoch: 3, Batch: 60] Loss: 0.4611116200685501\n",
      "[Epoch: 3, Batch: 70] Loss: 0.406498047709465\n",
      "[Epoch: 3, Batch: 80] Loss: 0.3208966165781021\n",
      "[Epoch: 3, Batch: 90] Loss: 0.40281122773885725\n",
      "[Epoch: 3, Batch: 100] Loss: 0.31726657748222353\n",
      "[Epoch: 3, Batch: 110] Loss: 0.412754613161087\n",
      "[Epoch: 3, Batch: 120] Loss: 0.42050542682409286\n",
      "[Epoch: 3, Batch: 130] Loss: 0.3113231182098389\n",
      "[Epoch: 3, Batch: 140] Loss: 0.3233423590660095\n",
      "[Epoch: 3, Batch: 150] Loss: 0.35164455622434615\n",
      "[Epoch: 3, Batch: 160] Loss: 0.41400323063135147\n",
      "[Epoch: 3, Batch: 170] Loss: 0.30577312260866163\n",
      "[Epoch: 3, Batch: 180] Loss: 0.3159287601709366\n",
      "[Epoch: 3, Batch: 190] Loss: 0.2988084197044373\n",
      "[Epoch: 3, Batch: 200] Loss: 0.4070246398448944\n",
      "[Epoch: 3, Batch: 210] Loss: 0.3178053930401802\n",
      "[Epoch: 3, Batch: 220] Loss: 0.3103629320859909\n",
      "Finished Training...!!\n"
     ]
    }
   ],
   "source": [
    "epochs = 3\n",
    "for epoch in range(epochs):\n",
    "    running_loss = 0.0\n",
    "    for i, data in enumerate(train_loader, 0):\n",
    "        # data is a list of [inputs, labels]\n",
    "        inputs, labels = data\n",
    "        \n",
    "        # zero out the parameter gradients\n",
    "        optimizer.zero_grad()\n",
    "        \n",
    "        # Forward + Backward + Optimize\n",
    "        outputs = net(inputs)\n",
    "        loss = criterion(outputs, labels)\n",
    "        loss.backward()\n",
    "        optimizer.step()\n",
    "        \n",
    "        # Stats\n",
    "        running_loss += loss.item()\n",
    "        if i % 10 == 9:\n",
    "            # Print every 10 mini-batches\n",
    "            print('[Epoch: {0}, Batch: {1}] Loss: {2}'.format(epoch+1, i+1, running_loss/10))\n",
    "            running_loss = 0.0\n",
    "\n",
    "print('Finished Training...!!')"
   ]
  },
  {
   "cell_type": "markdown",
   "metadata": {},
   "source": [
    "#### Save the trained model"
   ]
  },
  {
   "cell_type": "code",
   "execution_count": 57,
   "metadata": {},
   "outputs": [],
   "source": [
    "torch.save(net.state_dict(), 'new_contour_model.pth')"
   ]
  },
  {
   "cell_type": "code",
   "execution_count": null,
   "metadata": {},
   "outputs": [],
   "source": []
  },
  {
   "cell_type": "markdown",
   "metadata": {},
   "source": [
    "## Testing the trained model"
   ]
  },
  {
   "cell_type": "code",
   "execution_count": 58,
   "metadata": {},
   "outputs": [
    {
     "data": {
      "image/png": "[encoded data removed]",
      "text/plain": [
       "<Figure size 432x288 with 1 Axes>"
      ]
     },
     "metadata": {
      "needs_background": "light"
     },
     "output_type": "display_data"
    },
    {
     "name": "stdout",
     "output_type": "stream",
     "text": [
      "GroundTruth:  right, left, left, straight, fist, left, fist, straight, ok, fist, straight, left, left, straight, ok, left, straight, straight, ok, fist, left, straight, right, straight, straight, left, fist, fist, left, ok, right, fist\n"
     ]
    }
   ],
   "source": [
    "dataiter = iter(test_loader)\n",
    "images, labels = dataiter.next()\n",
    "\n",
    "imshow(torchvision.utils.make_grid(images))\n",
    "print('GroundTruth: ', ', '.join([classes[labels[j]] for j in range(32)]))"
   ]
  },
  {
   "cell_type": "markdown",
   "metadata": {},
   "source": [
    "### Load the model"
   ]
  },
  {
   "cell_type": "code",
   "execution_count": 60,
   "metadata": {},
   "outputs": [
    {
     "data": {
      "text/plain": [
       "<All keys matched successfully>"
      ]
     },
     "execution_count": 60,
     "metadata": {},
     "output_type": "execute_result"
    }
   ],
   "source": [
    "net = Net()\n",
    "net.load_state_dict(torch.load('new_contour_model.pth'))"
   ]
  },
  {
   "cell_type": "code",
   "execution_count": 61,
   "metadata": {},
   "outputs": [
    {
     "data": {
      "text/plain": [
       "torch.Size([32, 3, 128, 138])"
      ]
     },
     "execution_count": 61,
     "metadata": {},
     "output_type": "execute_result"
    }
   ],
   "source": [
    "images.shape"
   ]
  },
  {
   "cell_type": "code",
   "execution_count": 62,
   "metadata": {},
   "outputs": [],
   "source": [
    "outputs = net(images)"
   ]
  },
  {
   "cell_type": "code",
   "execution_count": 63,
   "metadata": {},
   "outputs": [],
   "source": [
    "_, predicted = torch.max(outputs, 1)"
   ]
  },
  {
   "cell_type": "code",
   "execution_count": 64,
   "metadata": {},
   "outputs": [
    {
     "data": {
      "text/plain": [
       "tensor([3, 1, 1, 4, 0, 1, 0, 4, 0, 0, 4, 1, 1, 4, 2, 1, 4, 4, 2, 0, 1, 4, 2, 4,\n",
       "        4, 1, 0, 0, 1, 2, 3, 0])"
      ]
     },
     "execution_count": 64,
     "metadata": {},
     "output_type": "execute_result"
    }
   ],
   "source": [
    "predicted"
   ]
  },
  {
   "cell_type": "code",
   "execution_count": 65,
   "metadata": {},
   "outputs": [
    {
     "name": "stdout",
     "output_type": "stream",
     "text": [
      "Predicted:  right, left, left, straight, fist, left, fist, straight, fist, fist, straight, left, left, straight, ok, left, straight, straight, ok, fist, left, straight, ok, straight, straight, left, fist, fist, left, ok, right, fist\n"
     ]
    }
   ],
   "source": [
    "print('Predicted: ', ', '.join([classes[predicted[j]] for j in range(32)]))"
   ]
  },
  {
   "cell_type": "markdown",
   "metadata": {},
   "source": [
    "### Check how the model performs on the whole dataset"
   ]
  },
  {
   "cell_type": "code",
   "execution_count": 66,
   "metadata": {},
   "outputs": [
    {
     "name": "stdout",
     "output_type": "stream",
     "text": [
      "Accuracy = 89.43543879262158\n"
     ]
    }
   ],
   "source": [
    "correct = 0\n",
    "total = 0\n",
    "with torch.no_grad():\n",
    "    for data in test_loader:\n",
    "        images, labels = data\n",
    "        outputs = net(images)\n",
    "        _, predicted = torch.max(outputs.data, 1)\n",
    "        total += labels.size(0)\n",
    "        correct += (predicted == labels).sum().item()\n",
    "        \n",
    "print('Accuracy = {}'.format(100 * correct / total))"
   ]
  },
  {
   "cell_type": "markdown",
   "metadata": {},
   "source": [
    "### Test how the model performed for different classes"
   ]
  },
  {
   "cell_type": "code",
   "execution_count": 67,
   "metadata": {},
   "outputs": [
    {
     "name": "stdout",
     "output_type": "stream",
     "text": [
      "Accuracy of fist: 86.64772727272727\n",
      "Accuracy of left: 99.7289972899729\n",
      "Accuracy of ok: 80.34188034188034\n",
      "Accuracy of right: 93.73219373219374\n",
      "Accuracy of straight: 86.33879781420765\n"
     ]
    }
   ],
   "source": [
    "class_correct = list(0 for i in range(5))\n",
    "class_total = list(0 for i in range(5))\n",
    "\n",
    "with torch.no_grad():\n",
    "    for data in test_loader:\n",
    "        images, labels = data\n",
    "        outputs = net(images)\n",
    "        _, predicted = torch.max(outputs, 1)\n",
    "        c = (predicted == labels).squeeze()\n",
    "        batch_size = min(32, len(images))\n",
    "        for i in range(batch_size):\n",
    "            label = labels[i]\n",
    "            class_correct[label] += c[i].item()\n",
    "            class_total[label] += 1\n",
    "            \n",
    "            \n",
    "for i in range(5):\n",
    "    print('Accuracy of {}: {}'.format(classes[i], 100*class_correct[i]/class_total[i]))\n",
    "    "
   ]
  },
  {
   "cell_type": "markdown",
   "metadata": {},
   "source": [
    "### Training on GPU"
   ]
  },
  {
   "cell_type": "code",
   "execution_count": 68,
   "metadata": {},
   "outputs": [
    {
     "data": {
      "text/plain": [
       "device(type='cuda', index=0)"
      ]
     },
     "execution_count": 68,
     "metadata": {},
     "output_type": "execute_result"
    }
   ],
   "source": [
    "device = torch.device('cuda:0' if torch.cuda.is_available() else 'cpu')\n",
    "device"
   ]
  },
  {
   "cell_type": "code",
   "execution_count": null,
   "metadata": {},
   "outputs": [],
   "source": []
  }
 ],
 "metadata": {
  "kernelspec": {
   "display_name": "asheesh",
   "language": "python",
   "name": "asheesh"
  },
  "language_info": {
   "codemirror_mode": {
    "name": "ipython",
    "version": 3
   },
   "file_extension": ".py",
   "mimetype": "text/x-python",
   "name": "python",
   "nbconvert_exporter": "python",
   "pygments_lexer": "ipython3",
   "version": "3.6.8"
  }
 },
 "nbformat": 4,
 "nbformat_minor": 2
}
